{
 "cells": [
  {
   "cell_type": "code",
   "execution_count": 2,
   "metadata": {},
   "outputs": [
    {
     "name": "stderr",
     "output_type": "stream",
     "text": [
      "/tmp/ipykernel_3335/975886460.py:4: UserWarning: \n",
      "The dash_core_components package is deprecated. Please replace\n",
      "`import dash_core_components as dcc` with `from dash import dcc`\n",
      "  import dash_core_components as dcc\n",
      "/tmp/ipykernel_3335/975886460.py:5: UserWarning: \n",
      "The dash_html_components package is deprecated. Please replace\n",
      "`import dash_html_components as html` with `from dash import html`\n",
      "  import dash_html_components as html\n"
     ]
    }
   ],
   "source": [
    "import pandas as pd\n",
    "import dash\n",
    "import math\n",
    "import plotly.graph_objects as go\n",
    "import dash_core_components as dcc\n",
    "import dash_html_components as html\n",
    "from dash.dependencies import Input, Output"
   ]
  },
  {
   "cell_type": "code",
   "execution_count": 90,
   "metadata": {},
   "outputs": [],
   "source": [
    "df = pd.read_csv('planets.csv')\n",
    "year_options = []\n",
    "for year in df['disc_year'].sort_values(ascending = True).unique():\n",
    "    year_options.append({'label':str(year), 'value':year})\n"
   ]
  },
  {
   "cell_type": "code",
   "execution_count": 101,
   "metadata": {},
   "outputs": [
    {
     "data": {
      "text/plain": [
       "{'sy_dist': 'Distance (pc)',\n",
       " 'pl_orbper': 'Orbital Period',\n",
       " 'pl_orbsmax': 'Orbit Semi-Major Axis',\n",
       " 'pl_rade': 'Planet Radius (Earth Radius)',\n",
       " 'pl_radj': 'Jupyter Radius (Earth Radius)'}"
      ]
     },
     "execution_count": 101,
     "metadata": {},
     "output_type": "execute_result"
    }
   ],
   "source": [
    "yaxis_options = [\n",
    "    {'label':'Distance (pc)', 'value':df.columns[72]},\n",
    "    {'label':'Orbital Period', 'value':df.columns[8]},\n",
    "    {'label':'Orbit Semi-Major Axis', 'value':df.columns[12]},\n",
    "    {'label':'Planet Radius (Earth Radius)', 'value':df.columns[16]},\n",
    "    {'label':'Jupyter Radius (Earth Radius)', 'value':df.columns[20]}]\n",
    "\n",
    "values = []\n",
    "keys = []\n",
    "for item in yaxis_options:\n",
    "    values.append(item['label'])\n",
    "    keys.append(item['value'])\n",
    "\n",
    "dict_yaxis = dict(zip(keys, values))\n",
    "dict_yaxis"
   ]
  },
  {
   "cell_type": "code",
   "execution_count": 80,
   "metadata": {},
   "outputs": [
    {
     "data": {
      "text/plain": [
       "9        632.4600\n",
       "10       273.3200\n",
       "15      2383.6000\n",
       "81       874.0000\n",
       "82       740.5100\n",
       "          ...    \n",
       "4880     177.9848\n",
       "4883     572.0700\n",
       "4884    1093.3352\n",
       "4933     807.2882\n",
       "4979     572.0700\n",
       "Name: pl_bmasse, Length: 97, dtype: float64"
      ]
     },
     "execution_count": 80,
     "metadata": {},
     "output_type": "execute_result"
    }
   ],
   "source": [
    "import math\n",
    "\n",
    "fig = go.Figure()\n",
    "filtered_df = df[df['disc_year'] == 2010]\n",
    "# methods = filtered_df['discoverymethod'].unique()\n",
    "# traces = []\n",
    "# for method in methods:\n",
    "#     filtered_df = filtered_df[filtered_df['discoverymethod'] == method]\n",
    "#     trace = go.Bar(\n",
    "#                 x=filtered_df['pl_name'],\n",
    "#                 y=filtered_df['sy_pnum'],\n",
    "#                 name = method)\n",
    "#     traces.append(trace)\n",
    "\n",
    "filtered_df['pl_bmasse'].apply(lambda x: 0 if math.isnan(x) else x)\n"
   ]
  },
  {
   "cell_type": "code",
   "execution_count": 89,
   "metadata": {},
   "outputs": [
    {
     "data": {
      "application/vnd.plotly.v1+json": {
       "config": {
        "plotlyServerURL": "https://plot.ly"
       },
       "data": [
        {
         "marker": {
          "size": [
           1373.01872,
           15.37,
           3.95,
           1.37,
           1.74,
           1.64,
           7.56,
           16.2,
           7.268,
           4,
           8.2,
           10.27,
           7.41,
           5.223,
           13.2,
           16,
           4.2,
           7.6,
           30.9,
           66.74397,
           9.65,
           1589.15,
           2.22,
           5.6,
           5.41,
           6.08,
           6.14,
           4,
           16.46,
           10.26,
           9.44,
           6.89,
           794.57102,
           2065.895,
           8613.193,
           42.44,
           12.9,
           8.1,
           48.4,
           14.4,
           22.9,
           11.3,
           965.147,
           115,
           127.132
          ],
          "sizeref": 100
         },
         "mode": "markers",
         "name": "Radial Velocity",
         "showlegend": true,
         "type": "scatter",
         "x": [
          "17 Sco b",
          "BD-11 4672 c",
          "CD Cet b",
          "GJ 1061 b",
          "GJ 1061 c",
          "GJ 1061 d",
          "GJ 180 d",
          "GJ 2056 b",
          "GJ 229 A c",
          "GJ 251 b",
          "GJ 3082 b",
          "GJ 338 B b",
          "GJ 3473 c",
          "GJ 433 d",
          "GJ 480 b",
          "GJ 687 c",
          "GJ 887 b",
          "GJ 887 c",
          "GJ 9066 b",
          "GJ 9066 c",
          "GJ 9689 b",
          "HD 112640 b",
          "HD 158259 b",
          "HD 158259 c",
          "HD 158259 d",
          "HD 158259 e",
          "HD 158259 f",
          "HD 164922 d",
          "HD 190007 b",
          "HD 216520 b",
          "HD 216520 c",
          "HD 238090 b",
          "HD 25723 b",
          "HD 60292 b",
          "HD 81817 b",
          "HD 95338 b",
          "HIP 107772 b",
          "HIP 38594 b",
          "HIP 38594 c",
          "HIP 4845 b",
          "HIP 48714 b",
          "K2-111 c",
          "Kepler-88 d",
          "WASP-107 c",
          "WASP-148 c"
         ],
         "y": [
          124.953,
          27.1665,
          8.60715,
          3.67278,
          3.67278,
          3.67278,
          11.9407,
          28.4434,
          5.75624,
          5.58057,
          16.6186,
          6.33256,
          27.3644,
          9.06456,
          14.2358,
          4.54939,
          3.29,
          3.29,
          4.471,
          4.471,
          30.6203,
          323.335,
          27.0498,
          27.0498,
          27.0498,
          27.0498,
          27.0498,
          22.0016,
          12.7141,
          19.552,
          19.552,
          15.2354,
          114.816,
          315.211,
          269.126,
          36.9941,
          23.6434,
          17.7886,
          17.7886,
          21.0974,
          10.5298,
          200.394,
          376.863,
          64.7414,
          246.353
         ]
        },
        {
         "marker": {
          "size": [
           17,
           921.707,
           266.9772,
           1.15,
           0.688,
           8.75,
           14.67,
           10.18,
           2.09,
           1.86,
           230.10892,
           31.46517,
           23.51942,
           117.27927,
           77.23269,
           112.19399,
           117.5971,
           39.85588,
           3.24,
           4.94,
           6.98,
           9.71,
           10.4,
           7.2,
           5.8,
           77.55052,
           5.27,
           7.61,
           5.6,
           7.25,
           1021.18779,
           72.4,
           0.809,
           2.33,
           4.01,
           8.91,
           3.39,
           8.2,
           7.37,
           4.46,
           4.35,
           5.06,
           6.48,
           5.48,
           5.82,
           82.6358,
           71,
           15,
           3.11,
           10.7,
           1.74,
           1.2,
           17,
           10.9,
           9.45,
           8.44,
           8.66,
           10.5,
           9.19,
           17.4,
           8.15,
           11.2,
           2.32,
           9.11,
           8.93,
           10.4,
           9.93,
           11.3,
           7.76,
           10.9,
           4.93,
           2.42,
           7.05,
           8.7,
           4.17,
           8.6,
           7.16,
           2.62,
           3.38,
           2.13,
           0.799,
           8.3,
           4.02,
           1.42,
           2.21,
           1.76,
           1.46,
           8.29,
           2.12,
           1.25,
           3.08,
           8.76,
           5.57,
           3.2,
           3.87,
           7.36,
           6,
           3.3,
           9.4,
           15.1,
           2.52,
           6.04,
           4.6,
           8.7,
           30.8,
           2.62,
           8.6,
           29.32,
           985.273,
           687.14846,
           109.33352,
           66.10864,
           617.22586,
           12.9,
           309.56642,
           7.85,
           5.9,
           13.6,
           13.5,
           2.2,
           22.4,
           33,
           375.0394,
           251.40353,
           26.78,
           209.7678,
           2.67,
           7.17,
           16.42,
           4.31,
           9.8,
           15.6,
           486.2799,
           0.674,
           1.59,
           5.4,
           11.95,
           16,
           3,
           464.98529,
           392.83788,
           1.11,
           7.51,
           1.57,
           9.79,
           9.32,
           4,
           5.3,
           36.4,
           18.467,
           381.396,
           39.09,
           301.9385,
           211.99261,
           826.358,
           794.575,
           55.30242,
           92.48853,
           2688.8418,
           271.74465,
           1341.2426,
           254.264,
           632.47853,
           4386.054,
           188.15536,
           232.33373
          ],
          "sizeref": 100
         },
         "mode": "markers",
         "name": "Transit",
         "showlegend": true,
         "type": "scatter",
         "x": [
          "AU Mic b",
          "CoRoT-30 b",
          "CoRoT-31 b",
          "EPIC 201170410.02",
          "EPIC 201757695.02",
          "EPIC 249893012 b",
          "EPIC 249893012 c",
          "EPIC 249893012 d",
          "GJ 1252 b",
          "GJ 3473 b",
          "HAT-P-68 b",
          "HATS-37 A b",
          "HATS-38 b",
          "HATS-47 b",
          "HATS-48 A b",
          "HATS-49 b",
          "HATS-71 b",
          "HATS-72 b",
          "HD 108236 b",
          "HD 108236 c",
          "HD 108236 d",
          "HD 108236 e",
          "HD 191939 b",
          "HD 191939 c",
          "HD 191939 d",
          "HD 332231 b",
          "HD 63433 b",
          "HD 63433 c",
          "HD 80653 b",
          "HD 86226 c",
          "HIP 65 A b",
          "HIP 67522 b",
          "K2-315 b",
          "K2-316 b",
          "K2-316 c",
          "K2-317 b",
          "K2-318 b",
          "K2-319 b",
          "K2-320 b",
          "K2-321 b",
          "K2-322 b",
          "K2-323 b",
          "K2-324 b",
          "K2-325 b",
          "K2-326 b",
          "K2-329 b",
          "KOI-1783.01",
          "KOI-1783.02",
          "Kepler-1001 c",
          "Kepler-1085 c",
          "Kepler-1514 c",
          "Kepler-1649 c",
          "Kepler-1661 b",
          "Kepler-1663 b",
          "Kepler-1664 b",
          "Kepler-1665 b",
          "Kepler-1666 b",
          "Kepler-1666 c",
          "Kepler-1667 b",
          "Kepler-1668 b",
          "Kepler-1669 b",
          "Kepler-1670 b",
          "Kepler-1671 b",
          "Kepler-1672 b",
          "Kepler-1673 b",
          "Kepler-1674 b",
          "Kepler-1675 b",
          "Kepler-1676 b",
          "Kepler-1677 b",
          "Kepler-1678 b",
          "Kepler-1679 b",
          "Kepler-1680 b",
          "Kepler-1681 b",
          "Kepler-1682 b",
          "Kepler-1683 b",
          "Kepler-1684 b",
          "Kepler-1685 b",
          "Kepler-1686 b",
          "Kepler-1687 b",
          "Kepler-1688 b",
          "Kepler-1689 b",
          "Kepler-1690 b",
          "Kepler-1691 b",
          "Kepler-1692 b",
          "Kepler-1693 b",
          "Kepler-1694 b",
          "Kepler-1695 b",
          "Kepler-1696 b",
          "Kepler-1697 b",
          "Kepler-1698 b",
          "Kepler-1699 b",
          "Kepler-1700 b",
          "Kepler-1701 b",
          "Kepler-1702 b",
          "Kepler-305 e",
          "Kepler-385 d",
          "Kepler-462 c",
          "Kepler-595 c",
          "Kepler-598 c",
          "Kepler-647 c",
          "Kepler-716 c",
          "Kepler-783 c",
          "L 168-9 b",
          "LHS 1815 b",
          "LP 714-47 b",
          "LTT 3780 b",
          "LTT 3780 c",
          "LTT 9779 b",
          "MASCARA-4 b",
          "NGTS-10 b",
          "NGTS-11 b",
          "NGTS-12 b",
          "TIC 237913194 b",
          "TOI-1130 b",
          "TOI-1130 c",
          "TOI-122 b",
          "TOI-1235 b",
          "TOI-125 d",
          "TOI-1266 b",
          "TOI-1266 c",
          "TOI-132 b",
          "TOI-1338 b",
          "TOI-157 b",
          "TOI-169 b",
          "TOI-1728 b",
          "TOI-1899 b",
          "TOI-237 b",
          "TOI-421 b",
          "TOI-421 c",
          "TOI-451 b",
          "TOI-451 c",
          "TOI-451 d",
          "TOI-481 b",
          "TOI-540 b",
          "TOI-561 b",
          "TOI-561 c",
          "TOI-561 d",
          "TOI-561 e",
          "TOI-561 f",
          "TOI-564 b",
          "TOI-677 b",
          "TOI-700 b",
          "TOI-700 c",
          "TOI-700 d",
          "TOI-763 b",
          "TOI-763 c",
          "TOI-776 b",
          "TOI-776 c",
          "TOI-813 b",
          "TOI-824 b",
          "TOI-837 b",
          "TOI-849 b",
          "TOI-892 b",
          "TOI-905 b",
          "TOI-942 b",
          "TOI-942 c",
          "TOI-954 b",
          "WASP-148 b",
          "WASP-150 b",
          "WASP-176 b",
          "WASP-186 b",
          "WASP-187 b",
          "WASP-189 b",
          "WD 1856+534 b",
          "Wendelstein-1 b",
          "Wendelstein-2 b"
         ],
         "y": [
          9.7221,
          1032.23,
          2005.76,
          134,
          577.6,
          321.296,
          321.296,
          321.296,
          20.373,
          27.3644,
          202.152,
          211.896,
          343.525,
          300.67,
          263.609,
          324.413,
          140.225,
          127.589,
          64.5978,
          64.5978,
          64.5978,
          64.5978,
          53.6089,
          53.6089,
          53.6089,
          80.6665,
          22.4035,
          22.4035,
          109.86,
          45.683,
          61.7856,
          127.28,
          56.9686,
          112.486,
          112.486,
          176.291,
          147.866,
          209.071,
          108.74,
          77.6888,
          123.415,
          118.318,
          136.667,
          111.638,
          282.308,
          233.237,
          865.73,
          865.73,
          928.978,
          1364.53,
          397.292,
          92.1913,
          410.607,
          337.926,
          626.691,
          335.515,
          1379.37,
          1379.37,
          626.819,
          1335.64,
          543.444,
          2065.98,
          357.059,
          391.181,
          727.187,
          1012.48,
          651.117,
          null,
          735.369,
          847.339,
          909.28,
          310.315,
          758.3,
          1159.85,
          733.143,
          621.996,
          1141.89,
          729.823,
          417.014,
          567.4468709,
          294.122,
          703.789,
          1267.67,
          591.019,
          760.065,
          513.329,
          791.175,
          1506.36,
          247.771,
          222.345,
          818.759,
          717.597,
          584.142,
          857.14,
          868.477,
          1432.61,
          596.625,
          643.009,
          681.086,
          1087.87,
          635.009,
          516.09,
          25.1496,
          29.8424,
          52.616,
          21.9814,
          21.9814,
          80.4373,
          170.696,
          324.6986504,
          190.422,
          446.442,
          306.063,
          58.2609,
          58.2609,
          62.118,
          39.6345,
          111.059,
          36.0118,
          36.0118,
          163.678,
          399.017,
          355.683,
          407.84,
          60.798,
          128.438,
          38.0749,
          74.7969,
          74.7969,
          123.739,
          123.739,
          123.739,
          179.366,
          14.0022,
          85.799,
          85.799,
          85.799,
          85.799,
          85.799,
          199.581,
          141.812,
          31.1265,
          31.1265,
          31.1265,
          95.1274,
          95.1274,
          27.1701,
          27.1701,
          263.145,
          63.9262,
          142.488,
          225.734,
          340.543,
          158.649,
          152.601,
          152.601,
          238.768,
          246.353,
          527.995,
          568.42,
          278.514,
          371.414,
          99.731,
          24.7359,
          305.3,
          565.541
         ]
        },
        {
         "marker": {
          "size": [
           1250,
           836,
           7.59,
           60,
           1400,
           10.28,
           397,
           200,
           53.1,
           138,
           250,
           130,
           160,
           1760,
           3585,
           6.228,
           3.96,
           210,
           1400
          ],
          "sizeref": 100
         },
         "mode": "markers",
         "name": "Microlensing",
         "showlegend": true,
         "type": "scatter",
         "x": [
          "KMT-2016-BLG-2364L b",
          "KMT-2016-BLG-2397L b",
          "KMT-2018-BLG-0029L b",
          "KMT-2018-BLG-0748L b",
          "KMT-2018-BLG-1292L b",
          "KMT-2019-BLG-0842L b",
          "KMT-2019-BLG-1339L b",
          "KMT-2019-BLG-1953L b",
          "OGLE-2012-BLG-0838L b",
          "OGLE-2015-BLG-1771L b",
          "OGLE-2016-BLG-1227L b",
          "OGLE-2017-BLG-0406L b",
          "OGLE-2017-BLG-0604L b",
          "OGLE-2017-BLG-1049L b",
          "OGLE-2017-BLG-1375L b",
          "OGLE-2018-BLG-0532L b",
          "OGLE-2018-BLG-0677L b",
          "OGLE-2018-BLG-1269L b",
          "OGLE-2018-BLG-1700L b"
         ],
         "y": [
          6440,
          4880,
          3380,
          7300,
          3460,
          3320,
          6120,
          7040,
          6320,
          7070,
          null,
          5200,
          3950,
          5670,
          3930,
          773,
          7580,
          2510,
          7600
         ]
        },
        {
         "marker": {
          "size": [
           100
          ],
          "sizeref": 100
         },
         "mode": "markers",
         "name": "Transit Timing Variations",
         "showlegend": true,
         "type": "scatter",
         "x": [
          "Kepler-160 d"
         ],
         "y": [
          937.013
         ]
        },
        {
         "marker": {
          "size": [
           4449.62,
           1906.98
          ],
          "sizeref": 100
         },
         "mode": "markers",
         "name": "Imaging",
         "showlegend": true,
         "type": "scatter",
         "x": [
          "TYC 8998-760-1 b",
          "TYC 8998-760-1 c"
         ],
         "y": [
          94.6177,
          94.6177
         ]
        }
       ],
       "layout": {
        "template": {
         "data": {
          "bar": [
           {
            "error_x": {
             "color": "#2a3f5f"
            },
            "error_y": {
             "color": "#2a3f5f"
            },
            "marker": {
             "line": {
              "color": "#E5ECF6",
              "width": 0.5
             },
             "pattern": {
              "fillmode": "overlay",
              "size": 10,
              "solidity": 0.2
             }
            },
            "type": "bar"
           }
          ],
          "barpolar": [
           {
            "marker": {
             "line": {
              "color": "#E5ECF6",
              "width": 0.5
             },
             "pattern": {
              "fillmode": "overlay",
              "size": 10,
              "solidity": 0.2
             }
            },
            "type": "barpolar"
           }
          ],
          "carpet": [
           {
            "aaxis": {
             "endlinecolor": "#2a3f5f",
             "gridcolor": "white",
             "linecolor": "white",
             "minorgridcolor": "white",
             "startlinecolor": "#2a3f5f"
            },
            "baxis": {
             "endlinecolor": "#2a3f5f",
             "gridcolor": "white",
             "linecolor": "white",
             "minorgridcolor": "white",
             "startlinecolor": "#2a3f5f"
            },
            "type": "carpet"
           }
          ],
          "choropleth": [
           {
            "colorbar": {
             "outlinewidth": 0,
             "ticks": ""
            },
            "type": "choropleth"
           }
          ],
          "contour": [
           {
            "colorbar": {
             "outlinewidth": 0,
             "ticks": ""
            },
            "colorscale": [
             [
              0,
              "#0d0887"
             ],
             [
              0.1111111111111111,
              "#46039f"
             ],
             [
              0.2222222222222222,
              "#7201a8"
             ],
             [
              0.3333333333333333,
              "#9c179e"
             ],
             [
              0.4444444444444444,
              "#bd3786"
             ],
             [
              0.5555555555555556,
              "#d8576b"
             ],
             [
              0.6666666666666666,
              "#ed7953"
             ],
             [
              0.7777777777777778,
              "#fb9f3a"
             ],
             [
              0.8888888888888888,
              "#fdca26"
             ],
             [
              1,
              "#f0f921"
             ]
            ],
            "type": "contour"
           }
          ],
          "contourcarpet": [
           {
            "colorbar": {
             "outlinewidth": 0,
             "ticks": ""
            },
            "type": "contourcarpet"
           }
          ],
          "heatmap": [
           {
            "colorbar": {
             "outlinewidth": 0,
             "ticks": ""
            },
            "colorscale": [
             [
              0,
              "#0d0887"
             ],
             [
              0.1111111111111111,
              "#46039f"
             ],
             [
              0.2222222222222222,
              "#7201a8"
             ],
             [
              0.3333333333333333,
              "#9c179e"
             ],
             [
              0.4444444444444444,
              "#bd3786"
             ],
             [
              0.5555555555555556,
              "#d8576b"
             ],
             [
              0.6666666666666666,
              "#ed7953"
             ],
             [
              0.7777777777777778,
              "#fb9f3a"
             ],
             [
              0.8888888888888888,
              "#fdca26"
             ],
             [
              1,
              "#f0f921"
             ]
            ],
            "type": "heatmap"
           }
          ],
          "heatmapgl": [
           {
            "colorbar": {
             "outlinewidth": 0,
             "ticks": ""
            },
            "colorscale": [
             [
              0,
              "#0d0887"
             ],
             [
              0.1111111111111111,
              "#46039f"
             ],
             [
              0.2222222222222222,
              "#7201a8"
             ],
             [
              0.3333333333333333,
              "#9c179e"
             ],
             [
              0.4444444444444444,
              "#bd3786"
             ],
             [
              0.5555555555555556,
              "#d8576b"
             ],
             [
              0.6666666666666666,
              "#ed7953"
             ],
             [
              0.7777777777777778,
              "#fb9f3a"
             ],
             [
              0.8888888888888888,
              "#fdca26"
             ],
             [
              1,
              "#f0f921"
             ]
            ],
            "type": "heatmapgl"
           }
          ],
          "histogram": [
           {
            "marker": {
             "pattern": {
              "fillmode": "overlay",
              "size": 10,
              "solidity": 0.2
             }
            },
            "type": "histogram"
           }
          ],
          "histogram2d": [
           {
            "colorbar": {
             "outlinewidth": 0,
             "ticks": ""
            },
            "colorscale": [
             [
              0,
              "#0d0887"
             ],
             [
              0.1111111111111111,
              "#46039f"
             ],
             [
              0.2222222222222222,
              "#7201a8"
             ],
             [
              0.3333333333333333,
              "#9c179e"
             ],
             [
              0.4444444444444444,
              "#bd3786"
             ],
             [
              0.5555555555555556,
              "#d8576b"
             ],
             [
              0.6666666666666666,
              "#ed7953"
             ],
             [
              0.7777777777777778,
              "#fb9f3a"
             ],
             [
              0.8888888888888888,
              "#fdca26"
             ],
             [
              1,
              "#f0f921"
             ]
            ],
            "type": "histogram2d"
           }
          ],
          "histogram2dcontour": [
           {
            "colorbar": {
             "outlinewidth": 0,
             "ticks": ""
            },
            "colorscale": [
             [
              0,
              "#0d0887"
             ],
             [
              0.1111111111111111,
              "#46039f"
             ],
             [
              0.2222222222222222,
              "#7201a8"
             ],
             [
              0.3333333333333333,
              "#9c179e"
             ],
             [
              0.4444444444444444,
              "#bd3786"
             ],
             [
              0.5555555555555556,
              "#d8576b"
             ],
             [
              0.6666666666666666,
              "#ed7953"
             ],
             [
              0.7777777777777778,
              "#fb9f3a"
             ],
             [
              0.8888888888888888,
              "#fdca26"
             ],
             [
              1,
              "#f0f921"
             ]
            ],
            "type": "histogram2dcontour"
           }
          ],
          "mesh3d": [
           {
            "colorbar": {
             "outlinewidth": 0,
             "ticks": ""
            },
            "type": "mesh3d"
           }
          ],
          "parcoords": [
           {
            "line": {
             "colorbar": {
              "outlinewidth": 0,
              "ticks": ""
             }
            },
            "type": "parcoords"
           }
          ],
          "pie": [
           {
            "automargin": true,
            "type": "pie"
           }
          ],
          "scatter": [
           {
            "marker": {
             "colorbar": {
              "outlinewidth": 0,
              "ticks": ""
             }
            },
            "type": "scatter"
           }
          ],
          "scatter3d": [
           {
            "line": {
             "colorbar": {
              "outlinewidth": 0,
              "ticks": ""
             }
            },
            "marker": {
             "colorbar": {
              "outlinewidth": 0,
              "ticks": ""
             }
            },
            "type": "scatter3d"
           }
          ],
          "scattercarpet": [
           {
            "marker": {
             "colorbar": {
              "outlinewidth": 0,
              "ticks": ""
             }
            },
            "type": "scattercarpet"
           }
          ],
          "scattergeo": [
           {
            "marker": {
             "colorbar": {
              "outlinewidth": 0,
              "ticks": ""
             }
            },
            "type": "scattergeo"
           }
          ],
          "scattergl": [
           {
            "marker": {
             "colorbar": {
              "outlinewidth": 0,
              "ticks": ""
             }
            },
            "type": "scattergl"
           }
          ],
          "scattermapbox": [
           {
            "marker": {
             "colorbar": {
              "outlinewidth": 0,
              "ticks": ""
             }
            },
            "type": "scattermapbox"
           }
          ],
          "scatterpolar": [
           {
            "marker": {
             "colorbar": {
              "outlinewidth": 0,
              "ticks": ""
             }
            },
            "type": "scatterpolar"
           }
          ],
          "scatterpolargl": [
           {
            "marker": {
             "colorbar": {
              "outlinewidth": 0,
              "ticks": ""
             }
            },
            "type": "scatterpolargl"
           }
          ],
          "scatterternary": [
           {
            "marker": {
             "colorbar": {
              "outlinewidth": 0,
              "ticks": ""
             }
            },
            "type": "scatterternary"
           }
          ],
          "surface": [
           {
            "colorbar": {
             "outlinewidth": 0,
             "ticks": ""
            },
            "colorscale": [
             [
              0,
              "#0d0887"
             ],
             [
              0.1111111111111111,
              "#46039f"
             ],
             [
              0.2222222222222222,
              "#7201a8"
             ],
             [
              0.3333333333333333,
              "#9c179e"
             ],
             [
              0.4444444444444444,
              "#bd3786"
             ],
             [
              0.5555555555555556,
              "#d8576b"
             ],
             [
              0.6666666666666666,
              "#ed7953"
             ],
             [
              0.7777777777777778,
              "#fb9f3a"
             ],
             [
              0.8888888888888888,
              "#fdca26"
             ],
             [
              1,
              "#f0f921"
             ]
            ],
            "type": "surface"
           }
          ],
          "table": [
           {
            "cells": {
             "fill": {
              "color": "#EBF0F8"
             },
             "line": {
              "color": "white"
             }
            },
            "header": {
             "fill": {
              "color": "#C8D4E3"
             },
             "line": {
              "color": "white"
             }
            },
            "type": "table"
           }
          ]
         },
         "layout": {
          "annotationdefaults": {
           "arrowcolor": "#2a3f5f",
           "arrowhead": 0,
           "arrowwidth": 1
          },
          "autotypenumbers": "strict",
          "coloraxis": {
           "colorbar": {
            "outlinewidth": 0,
            "ticks": ""
           }
          },
          "colorscale": {
           "diverging": [
            [
             0,
             "#8e0152"
            ],
            [
             0.1,
             "#c51b7d"
            ],
            [
             0.2,
             "#de77ae"
            ],
            [
             0.3,
             "#f1b6da"
            ],
            [
             0.4,
             "#fde0ef"
            ],
            [
             0.5,
             "#f7f7f7"
            ],
            [
             0.6,
             "#e6f5d0"
            ],
            [
             0.7,
             "#b8e186"
            ],
            [
             0.8,
             "#7fbc41"
            ],
            [
             0.9,
             "#4d9221"
            ],
            [
             1,
             "#276419"
            ]
           ],
           "sequential": [
            [
             0,
             "#0d0887"
            ],
            [
             0.1111111111111111,
             "#46039f"
            ],
            [
             0.2222222222222222,
             "#7201a8"
            ],
            [
             0.3333333333333333,
             "#9c179e"
            ],
            [
             0.4444444444444444,
             "#bd3786"
            ],
            [
             0.5555555555555556,
             "#d8576b"
            ],
            [
             0.6666666666666666,
             "#ed7953"
            ],
            [
             0.7777777777777778,
             "#fb9f3a"
            ],
            [
             0.8888888888888888,
             "#fdca26"
            ],
            [
             1,
             "#f0f921"
            ]
           ],
           "sequentialminus": [
            [
             0,
             "#0d0887"
            ],
            [
             0.1111111111111111,
             "#46039f"
            ],
            [
             0.2222222222222222,
             "#7201a8"
            ],
            [
             0.3333333333333333,
             "#9c179e"
            ],
            [
             0.4444444444444444,
             "#bd3786"
            ],
            [
             0.5555555555555556,
             "#d8576b"
            ],
            [
             0.6666666666666666,
             "#ed7953"
            ],
            [
             0.7777777777777778,
             "#fb9f3a"
            ],
            [
             0.8888888888888888,
             "#fdca26"
            ],
            [
             1,
             "#f0f921"
            ]
           ]
          },
          "colorway": [
           "#636efa",
           "#EF553B",
           "#00cc96",
           "#ab63fa",
           "#FFA15A",
           "#19d3f3",
           "#FF6692",
           "#B6E880",
           "#FF97FF",
           "#FECB52"
          ],
          "font": {
           "color": "#2a3f5f"
          },
          "geo": {
           "bgcolor": "white",
           "lakecolor": "white",
           "landcolor": "#E5ECF6",
           "showlakes": true,
           "showland": true,
           "subunitcolor": "white"
          },
          "hoverlabel": {
           "align": "left"
          },
          "hovermode": "closest",
          "mapbox": {
           "style": "light"
          },
          "paper_bgcolor": "white",
          "plot_bgcolor": "#E5ECF6",
          "polar": {
           "angularaxis": {
            "gridcolor": "white",
            "linecolor": "white",
            "ticks": ""
           },
           "bgcolor": "#E5ECF6",
           "radialaxis": {
            "gridcolor": "white",
            "linecolor": "white",
            "ticks": ""
           }
          },
          "scene": {
           "xaxis": {
            "backgroundcolor": "#E5ECF6",
            "gridcolor": "white",
            "gridwidth": 2,
            "linecolor": "white",
            "showbackground": true,
            "ticks": "",
            "zerolinecolor": "white"
           },
           "yaxis": {
            "backgroundcolor": "#E5ECF6",
            "gridcolor": "white",
            "gridwidth": 2,
            "linecolor": "white",
            "showbackground": true,
            "ticks": "",
            "zerolinecolor": "white"
           },
           "zaxis": {
            "backgroundcolor": "#E5ECF6",
            "gridcolor": "white",
            "gridwidth": 2,
            "linecolor": "white",
            "showbackground": true,
            "ticks": "",
            "zerolinecolor": "white"
           }
          },
          "shapedefaults": {
           "line": {
            "color": "#2a3f5f"
           }
          },
          "ternary": {
           "aaxis": {
            "gridcolor": "white",
            "linecolor": "white",
            "ticks": ""
           },
           "baxis": {
            "gridcolor": "white",
            "linecolor": "white",
            "ticks": ""
           },
           "bgcolor": "#E5ECF6",
           "caxis": {
            "gridcolor": "white",
            "linecolor": "white",
            "ticks": ""
           }
          },
          "title": {
           "x": 0.05
          },
          "xaxis": {
           "automargin": true,
           "gridcolor": "white",
           "linecolor": "white",
           "ticks": "",
           "title": {
            "standoff": 15
           },
           "zerolinecolor": "white",
           "zerolinewidth": 2
          },
          "yaxis": {
           "automargin": true,
           "gridcolor": "white",
           "linecolor": "white",
           "ticks": "",
           "title": {
            "standoff": 15
           },
           "zerolinecolor": "white",
           "zerolinewidth": 2
          }
         }
        },
        "title": {
         "text": "Discovery methods per year"
        },
        "xaxis": {
         "showgrid": false,
         "title": {
          "text": "Planets"
         }
        },
        "yaxis": {
         "showgrid": false,
         "title": {
          "text": "Distance (pc)"
         }
        }
       }
      },
      "text/html": [
       "<div>                            <div id=\"8e11a231-cb0a-4931-8d6b-3b12250c0697\" class=\"plotly-graph-div\" style=\"height:525px; width:100%;\"></div>            <script type=\"text/javascript\">                require([\"plotly\"], function(Plotly) {                    window.PLOTLYENV=window.PLOTLYENV || {};                                    if (document.getElementById(\"8e11a231-cb0a-4931-8d6b-3b12250c0697\")) {                    Plotly.newPlot(                        \"8e11a231-cb0a-4931-8d6b-3b12250c0697\",                        [{\"marker\":{\"size\":[1373.01872,15.37,3.95,1.37,1.74,1.64,7.56,16.2,7.268,4.0,8.2,10.27,7.41,5.223,13.2,16.0,4.2,7.6,30.9,66.74397,9.65,1589.15,2.22,5.6,5.41,6.08,6.14,4.0,16.46,10.26,9.44,6.89,794.57102,2065.895,8613.193,42.44,12.9,8.1,48.4,14.4,22.9,11.3,965.147,115.0,127.132],\"sizeref\":100},\"mode\":\"markers\",\"name\":\"Radial Velocity\",\"showlegend\":true,\"x\":[\"17 Sco b\",\"BD-11 4672 c\",\"CD Cet b\",\"GJ 1061 b\",\"GJ 1061 c\",\"GJ 1061 d\",\"GJ 180 d\",\"GJ 2056 b\",\"GJ 229 A c\",\"GJ 251 b\",\"GJ 3082 b\",\"GJ 338 B b\",\"GJ 3473 c\",\"GJ 433 d\",\"GJ 480 b\",\"GJ 687 c\",\"GJ 887 b\",\"GJ 887 c\",\"GJ 9066 b\",\"GJ 9066 c\",\"GJ 9689 b\",\"HD 112640 b\",\"HD 158259 b\",\"HD 158259 c\",\"HD 158259 d\",\"HD 158259 e\",\"HD 158259 f\",\"HD 164922 d\",\"HD 190007 b\",\"HD 216520 b\",\"HD 216520 c\",\"HD 238090 b\",\"HD 25723 b\",\"HD 60292 b\",\"HD 81817 b\",\"HD 95338 b\",\"HIP 107772 b\",\"HIP 38594 b\",\"HIP 38594 c\",\"HIP 4845 b\",\"HIP 48714 b\",\"K2-111 c\",\"Kepler-88 d\",\"WASP-107 c\",\"WASP-148 c\"],\"y\":[124.953,27.1665,8.60715,3.67278,3.67278,3.67278,11.9407,28.4434,5.75624,5.58057,16.6186,6.33256,27.3644,9.06456,14.2358,4.54939,3.29,3.29,4.471,4.471,30.6203,323.335,27.0498,27.0498,27.0498,27.0498,27.0498,22.0016,12.7141,19.552,19.552,15.2354,114.816,315.211,269.126,36.9941,23.6434,17.7886,17.7886,21.0974,10.5298,200.394,376.863,64.7414,246.353],\"type\":\"scatter\"},{\"marker\":{\"size\":[17.0,921.707,266.9772,1.15,0.688,8.75,14.67,10.18,2.09,1.86,230.10892,31.46517,23.51942,117.27927,77.23269,112.19399,117.5971,39.85588,3.24,4.94,6.98,9.71,10.4,7.2,5.8,77.55052,5.27,7.61,5.6,7.25,1021.18779,72.4,0.809,2.33,4.01,8.91,3.39,8.2,7.37,4.46,4.35,5.06,6.48,5.48,5.82,82.6358,71.0,15.0,3.11,10.7,1.74,1.2,17.0,10.9,9.45,8.44,8.66,10.5,9.19,17.4,8.15,11.2,2.32,9.11,8.93,10.4,9.93,11.3,7.76,10.9,4.93,2.42,7.05,8.7,4.17,8.6,7.16,2.62,3.38,2.13,0.799,8.3,4.02,1.42,2.21,1.76,1.46,8.29,2.12,1.25,3.08,8.76,5.57,3.2,3.87,7.36,6.0,3.3,9.4,15.1,2.52,6.04,4.6,8.7,30.8,2.62,8.6,29.32,985.273,687.14846,109.33352,66.10864,617.22586,12.9,309.56642,7.85,5.9,13.6,13.5,2.2,22.4,33.0,375.0394,251.40353,26.78,209.7678,2.67,7.17,16.42,4.31,9.8,15.6,486.2799,0.674,1.59,5.4,11.95,16.0,3.0,464.98529,392.83788,1.11,7.51,1.57,9.79,9.32,4.0,5.3,36.4,18.467,381.396,39.09,301.9385,211.99261,826.358,794.575,55.30242,92.48853,2688.8418,271.74465,1341.2426,254.264,632.47853,4386.054,188.15536,232.33373],\"sizeref\":100},\"mode\":\"markers\",\"name\":\"Transit\",\"showlegend\":true,\"x\":[\"AU Mic b\",\"CoRoT-30 b\",\"CoRoT-31 b\",\"EPIC 201170410.02\",\"EPIC 201757695.02\",\"EPIC 249893012 b\",\"EPIC 249893012 c\",\"EPIC 249893012 d\",\"GJ 1252 b\",\"GJ 3473 b\",\"HAT-P-68 b\",\"HATS-37 A b\",\"HATS-38 b\",\"HATS-47 b\",\"HATS-48 A b\",\"HATS-49 b\",\"HATS-71 b\",\"HATS-72 b\",\"HD 108236 b\",\"HD 108236 c\",\"HD 108236 d\",\"HD 108236 e\",\"HD 191939 b\",\"HD 191939 c\",\"HD 191939 d\",\"HD 332231 b\",\"HD 63433 b\",\"HD 63433 c\",\"HD 80653 b\",\"HD 86226 c\",\"HIP 65 A b\",\"HIP 67522 b\",\"K2-315 b\",\"K2-316 b\",\"K2-316 c\",\"K2-317 b\",\"K2-318 b\",\"K2-319 b\",\"K2-320 b\",\"K2-321 b\",\"K2-322 b\",\"K2-323 b\",\"K2-324 b\",\"K2-325 b\",\"K2-326 b\",\"K2-329 b\",\"KOI-1783.01\",\"KOI-1783.02\",\"Kepler-1001 c\",\"Kepler-1085 c\",\"Kepler-1514 c\",\"Kepler-1649 c\",\"Kepler-1661 b\",\"Kepler-1663 b\",\"Kepler-1664 b\",\"Kepler-1665 b\",\"Kepler-1666 b\",\"Kepler-1666 c\",\"Kepler-1667 b\",\"Kepler-1668 b\",\"Kepler-1669 b\",\"Kepler-1670 b\",\"Kepler-1671 b\",\"Kepler-1672 b\",\"Kepler-1673 b\",\"Kepler-1674 b\",\"Kepler-1675 b\",\"Kepler-1676 b\",\"Kepler-1677 b\",\"Kepler-1678 b\",\"Kepler-1679 b\",\"Kepler-1680 b\",\"Kepler-1681 b\",\"Kepler-1682 b\",\"Kepler-1683 b\",\"Kepler-1684 b\",\"Kepler-1685 b\",\"Kepler-1686 b\",\"Kepler-1687 b\",\"Kepler-1688 b\",\"Kepler-1689 b\",\"Kepler-1690 b\",\"Kepler-1691 b\",\"Kepler-1692 b\",\"Kepler-1693 b\",\"Kepler-1694 b\",\"Kepler-1695 b\",\"Kepler-1696 b\",\"Kepler-1697 b\",\"Kepler-1698 b\",\"Kepler-1699 b\",\"Kepler-1700 b\",\"Kepler-1701 b\",\"Kepler-1702 b\",\"Kepler-305 e\",\"Kepler-385 d\",\"Kepler-462 c\",\"Kepler-595 c\",\"Kepler-598 c\",\"Kepler-647 c\",\"Kepler-716 c\",\"Kepler-783 c\",\"L 168-9 b\",\"LHS 1815 b\",\"LP 714-47 b\",\"LTT 3780 b\",\"LTT 3780 c\",\"LTT 9779 b\",\"MASCARA-4 b\",\"NGTS-10 b\",\"NGTS-11 b\",\"NGTS-12 b\",\"TIC 237913194 b\",\"TOI-1130 b\",\"TOI-1130 c\",\"TOI-122 b\",\"TOI-1235 b\",\"TOI-125 d\",\"TOI-1266 b\",\"TOI-1266 c\",\"TOI-132 b\",\"TOI-1338 b\",\"TOI-157 b\",\"TOI-169 b\",\"TOI-1728 b\",\"TOI-1899 b\",\"TOI-237 b\",\"TOI-421 b\",\"TOI-421 c\",\"TOI-451 b\",\"TOI-451 c\",\"TOI-451 d\",\"TOI-481 b\",\"TOI-540 b\",\"TOI-561 b\",\"TOI-561 c\",\"TOI-561 d\",\"TOI-561 e\",\"TOI-561 f\",\"TOI-564 b\",\"TOI-677 b\",\"TOI-700 b\",\"TOI-700 c\",\"TOI-700 d\",\"TOI-763 b\",\"TOI-763 c\",\"TOI-776 b\",\"TOI-776 c\",\"TOI-813 b\",\"TOI-824 b\",\"TOI-837 b\",\"TOI-849 b\",\"TOI-892 b\",\"TOI-905 b\",\"TOI-942 b\",\"TOI-942 c\",\"TOI-954 b\",\"WASP-148 b\",\"WASP-150 b\",\"WASP-176 b\",\"WASP-186 b\",\"WASP-187 b\",\"WASP-189 b\",\"WD 1856+534 b\",\"Wendelstein-1 b\",\"Wendelstein-2 b\"],\"y\":[9.7221,1032.23,2005.76,134.0,577.6,321.296,321.296,321.296,20.373,27.3644,202.152,211.896,343.525,300.67,263.609,324.413,140.225,127.589,64.5978,64.5978,64.5978,64.5978,53.6089,53.6089,53.6089,80.6665,22.4035,22.4035,109.86,45.683,61.7856,127.28,56.9686,112.486,112.486,176.291,147.866,209.071,108.74,77.6888,123.415,118.318,136.667,111.638,282.308,233.237,865.73,865.73,928.978,1364.53,397.292,92.1913,410.607,337.926,626.691,335.515,1379.37,1379.37,626.819,1335.64,543.444,2065.98,357.059,391.181,727.187,1012.48,651.117,null,735.369,847.339,909.28,310.315,758.3,1159.85,733.143,621.996,1141.89,729.823,417.014,567.4468709,294.122,703.789,1267.67,591.019,760.065,513.329,791.175,1506.36,247.771,222.345,818.759,717.597,584.142,857.14,868.477,1432.61,596.625,643.009,681.086,1087.87,635.009,516.09,25.1496,29.8424,52.616,21.9814,21.9814,80.4373,170.696,324.6986504,190.422,446.442,306.063,58.2609,58.2609,62.118,39.6345,111.059,36.0118,36.0118,163.678,399.017,355.683,407.84,60.798,128.438,38.0749,74.7969,74.7969,123.739,123.739,123.739,179.366,14.0022,85.799,85.799,85.799,85.799,85.799,199.581,141.812,31.1265,31.1265,31.1265,95.1274,95.1274,27.1701,27.1701,263.145,63.9262,142.488,225.734,340.543,158.649,152.601,152.601,238.768,246.353,527.995,568.42,278.514,371.414,99.731,24.7359,305.3,565.541],\"type\":\"scatter\"},{\"marker\":{\"size\":[1250.0,836.0,7.59,60.0,1400.0,10.28,397.0,200.0,53.1,138.0,250.0,130.0,160.0,1760.0,3585.0,6.228,3.96,210.0,1400.0],\"sizeref\":100},\"mode\":\"markers\",\"name\":\"Microlensing\",\"showlegend\":true,\"x\":[\"KMT-2016-BLG-2364L b\",\"KMT-2016-BLG-2397L b\",\"KMT-2018-BLG-0029L b\",\"KMT-2018-BLG-0748L b\",\"KMT-2018-BLG-1292L b\",\"KMT-2019-BLG-0842L b\",\"KMT-2019-BLG-1339L b\",\"KMT-2019-BLG-1953L b\",\"OGLE-2012-BLG-0838L b\",\"OGLE-2015-BLG-1771L b\",\"OGLE-2016-BLG-1227L b\",\"OGLE-2017-BLG-0406L b\",\"OGLE-2017-BLG-0604L b\",\"OGLE-2017-BLG-1049L b\",\"OGLE-2017-BLG-1375L b\",\"OGLE-2018-BLG-0532L b\",\"OGLE-2018-BLG-0677L b\",\"OGLE-2018-BLG-1269L b\",\"OGLE-2018-BLG-1700L b\"],\"y\":[6440.0,4880.0,3380.0,7300.0,3460.0,3320.0,6120.0,7040.0,6320.0,7070.0,null,5200.0,3950.0,5670.0,3930.0,773.0,7580.0,2510.0,7600.0],\"type\":\"scatter\"},{\"marker\":{\"size\":[100.0],\"sizeref\":100},\"mode\":\"markers\",\"name\":\"Transit Timing Variations\",\"showlegend\":true,\"x\":[\"Kepler-160 d\"],\"y\":[937.013],\"type\":\"scatter\"},{\"marker\":{\"size\":[4449.62,1906.98],\"sizeref\":100},\"mode\":\"markers\",\"name\":\"Imaging\",\"showlegend\":true,\"x\":[\"TYC 8998-760-1 b\",\"TYC 8998-760-1 c\"],\"y\":[94.6177,94.6177],\"type\":\"scatter\"}],                        {\"title\":{\"text\":\"Discovery methods per year\"},\"xaxis\":{\"showgrid\":false,\"title\":{\"text\":\"Planets\"}},\"yaxis\":{\"showgrid\":false,\"title\":{\"text\":\"Distance (pc)\"}},\"template\":{\"data\":{\"bar\":[{\"error_x\":{\"color\":\"#2a3f5f\"},\"error_y\":{\"color\":\"#2a3f5f\"},\"marker\":{\"line\":{\"color\":\"#E5ECF6\",\"width\":0.5},\"pattern\":{\"fillmode\":\"overlay\",\"size\":10,\"solidity\":0.2}},\"type\":\"bar\"}],\"barpolar\":[{\"marker\":{\"line\":{\"color\":\"#E5ECF6\",\"width\":0.5},\"pattern\":{\"fillmode\":\"overlay\",\"size\":10,\"solidity\":0.2}},\"type\":\"barpolar\"}],\"carpet\":[{\"aaxis\":{\"endlinecolor\":\"#2a3f5f\",\"gridcolor\":\"white\",\"linecolor\":\"white\",\"minorgridcolor\":\"white\",\"startlinecolor\":\"#2a3f5f\"},\"baxis\":{\"endlinecolor\":\"#2a3f5f\",\"gridcolor\":\"white\",\"linecolor\":\"white\",\"minorgridcolor\":\"white\",\"startlinecolor\":\"#2a3f5f\"},\"type\":\"carpet\"}],\"choropleth\":[{\"colorbar\":{\"outlinewidth\":0,\"ticks\":\"\"},\"type\":\"choropleth\"}],\"contour\":[{\"colorbar\":{\"outlinewidth\":0,\"ticks\":\"\"},\"colorscale\":[[0.0,\"#0d0887\"],[0.1111111111111111,\"#46039f\"],[0.2222222222222222,\"#7201a8\"],[0.3333333333333333,\"#9c179e\"],[0.4444444444444444,\"#bd3786\"],[0.5555555555555556,\"#d8576b\"],[0.6666666666666666,\"#ed7953\"],[0.7777777777777778,\"#fb9f3a\"],[0.8888888888888888,\"#fdca26\"],[1.0,\"#f0f921\"]],\"type\":\"contour\"}],\"contourcarpet\":[{\"colorbar\":{\"outlinewidth\":0,\"ticks\":\"\"},\"type\":\"contourcarpet\"}],\"heatmap\":[{\"colorbar\":{\"outlinewidth\":0,\"ticks\":\"\"},\"colorscale\":[[0.0,\"#0d0887\"],[0.1111111111111111,\"#46039f\"],[0.2222222222222222,\"#7201a8\"],[0.3333333333333333,\"#9c179e\"],[0.4444444444444444,\"#bd3786\"],[0.5555555555555556,\"#d8576b\"],[0.6666666666666666,\"#ed7953\"],[0.7777777777777778,\"#fb9f3a\"],[0.8888888888888888,\"#fdca26\"],[1.0,\"#f0f921\"]],\"type\":\"heatmap\"}],\"heatmapgl\":[{\"colorbar\":{\"outlinewidth\":0,\"ticks\":\"\"},\"colorscale\":[[0.0,\"#0d0887\"],[0.1111111111111111,\"#46039f\"],[0.2222222222222222,\"#7201a8\"],[0.3333333333333333,\"#9c179e\"],[0.4444444444444444,\"#bd3786\"],[0.5555555555555556,\"#d8576b\"],[0.6666666666666666,\"#ed7953\"],[0.7777777777777778,\"#fb9f3a\"],[0.8888888888888888,\"#fdca26\"],[1.0,\"#f0f921\"]],\"type\":\"heatmapgl\"}],\"histogram\":[{\"marker\":{\"pattern\":{\"fillmode\":\"overlay\",\"size\":10,\"solidity\":0.2}},\"type\":\"histogram\"}],\"histogram2d\":[{\"colorbar\":{\"outlinewidth\":0,\"ticks\":\"\"},\"colorscale\":[[0.0,\"#0d0887\"],[0.1111111111111111,\"#46039f\"],[0.2222222222222222,\"#7201a8\"],[0.3333333333333333,\"#9c179e\"],[0.4444444444444444,\"#bd3786\"],[0.5555555555555556,\"#d8576b\"],[0.6666666666666666,\"#ed7953\"],[0.7777777777777778,\"#fb9f3a\"],[0.8888888888888888,\"#fdca26\"],[1.0,\"#f0f921\"]],\"type\":\"histogram2d\"}],\"histogram2dcontour\":[{\"colorbar\":{\"outlinewidth\":0,\"ticks\":\"\"},\"colorscale\":[[0.0,\"#0d0887\"],[0.1111111111111111,\"#46039f\"],[0.2222222222222222,\"#7201a8\"],[0.3333333333333333,\"#9c179e\"],[0.4444444444444444,\"#bd3786\"],[0.5555555555555556,\"#d8576b\"],[0.6666666666666666,\"#ed7953\"],[0.7777777777777778,\"#fb9f3a\"],[0.8888888888888888,\"#fdca26\"],[1.0,\"#f0f921\"]],\"type\":\"histogram2dcontour\"}],\"mesh3d\":[{\"colorbar\":{\"outlinewidth\":0,\"ticks\":\"\"},\"type\":\"mesh3d\"}],\"parcoords\":[{\"line\":{\"colorbar\":{\"outlinewidth\":0,\"ticks\":\"\"}},\"type\":\"parcoords\"}],\"pie\":[{\"automargin\":true,\"type\":\"pie\"}],\"scatter\":[{\"marker\":{\"colorbar\":{\"outlinewidth\":0,\"ticks\":\"\"}},\"type\":\"scatter\"}],\"scatter3d\":[{\"line\":{\"colorbar\":{\"outlinewidth\":0,\"ticks\":\"\"}},\"marker\":{\"colorbar\":{\"outlinewidth\":0,\"ticks\":\"\"}},\"type\":\"scatter3d\"}],\"scattercarpet\":[{\"marker\":{\"colorbar\":{\"outlinewidth\":0,\"ticks\":\"\"}},\"type\":\"scattercarpet\"}],\"scattergeo\":[{\"marker\":{\"colorbar\":{\"outlinewidth\":0,\"ticks\":\"\"}},\"type\":\"scattergeo\"}],\"scattergl\":[{\"marker\":{\"colorbar\":{\"outlinewidth\":0,\"ticks\":\"\"}},\"type\":\"scattergl\"}],\"scattermapbox\":[{\"marker\":{\"colorbar\":{\"outlinewidth\":0,\"ticks\":\"\"}},\"type\":\"scattermapbox\"}],\"scatterpolar\":[{\"marker\":{\"colorbar\":{\"outlinewidth\":0,\"ticks\":\"\"}},\"type\":\"scatterpolar\"}],\"scatterpolargl\":[{\"marker\":{\"colorbar\":{\"outlinewidth\":0,\"ticks\":\"\"}},\"type\":\"scatterpolargl\"}],\"scatterternary\":[{\"marker\":{\"colorbar\":{\"outlinewidth\":0,\"ticks\":\"\"}},\"type\":\"scatterternary\"}],\"surface\":[{\"colorbar\":{\"outlinewidth\":0,\"ticks\":\"\"},\"colorscale\":[[0.0,\"#0d0887\"],[0.1111111111111111,\"#46039f\"],[0.2222222222222222,\"#7201a8\"],[0.3333333333333333,\"#9c179e\"],[0.4444444444444444,\"#bd3786\"],[0.5555555555555556,\"#d8576b\"],[0.6666666666666666,\"#ed7953\"],[0.7777777777777778,\"#fb9f3a\"],[0.8888888888888888,\"#fdca26\"],[1.0,\"#f0f921\"]],\"type\":\"surface\"}],\"table\":[{\"cells\":{\"fill\":{\"color\":\"#EBF0F8\"},\"line\":{\"color\":\"white\"}},\"header\":{\"fill\":{\"color\":\"#C8D4E3\"},\"line\":{\"color\":\"white\"}},\"type\":\"table\"}]},\"layout\":{\"annotationdefaults\":{\"arrowcolor\":\"#2a3f5f\",\"arrowhead\":0,\"arrowwidth\":1},\"autotypenumbers\":\"strict\",\"coloraxis\":{\"colorbar\":{\"outlinewidth\":0,\"ticks\":\"\"}},\"colorscale\":{\"diverging\":[[0,\"#8e0152\"],[0.1,\"#c51b7d\"],[0.2,\"#de77ae\"],[0.3,\"#f1b6da\"],[0.4,\"#fde0ef\"],[0.5,\"#f7f7f7\"],[0.6,\"#e6f5d0\"],[0.7,\"#b8e186\"],[0.8,\"#7fbc41\"],[0.9,\"#4d9221\"],[1,\"#276419\"]],\"sequential\":[[0.0,\"#0d0887\"],[0.1111111111111111,\"#46039f\"],[0.2222222222222222,\"#7201a8\"],[0.3333333333333333,\"#9c179e\"],[0.4444444444444444,\"#bd3786\"],[0.5555555555555556,\"#d8576b\"],[0.6666666666666666,\"#ed7953\"],[0.7777777777777778,\"#fb9f3a\"],[0.8888888888888888,\"#fdca26\"],[1.0,\"#f0f921\"]],\"sequentialminus\":[[0.0,\"#0d0887\"],[0.1111111111111111,\"#46039f\"],[0.2222222222222222,\"#7201a8\"],[0.3333333333333333,\"#9c179e\"],[0.4444444444444444,\"#bd3786\"],[0.5555555555555556,\"#d8576b\"],[0.6666666666666666,\"#ed7953\"],[0.7777777777777778,\"#fb9f3a\"],[0.8888888888888888,\"#fdca26\"],[1.0,\"#f0f921\"]]},\"colorway\":[\"#636efa\",\"#EF553B\",\"#00cc96\",\"#ab63fa\",\"#FFA15A\",\"#19d3f3\",\"#FF6692\",\"#B6E880\",\"#FF97FF\",\"#FECB52\"],\"font\":{\"color\":\"#2a3f5f\"},\"geo\":{\"bgcolor\":\"white\",\"lakecolor\":\"white\",\"landcolor\":\"#E5ECF6\",\"showlakes\":true,\"showland\":true,\"subunitcolor\":\"white\"},\"hoverlabel\":{\"align\":\"left\"},\"hovermode\":\"closest\",\"mapbox\":{\"style\":\"light\"},\"paper_bgcolor\":\"white\",\"plot_bgcolor\":\"#E5ECF6\",\"polar\":{\"angularaxis\":{\"gridcolor\":\"white\",\"linecolor\":\"white\",\"ticks\":\"\"},\"bgcolor\":\"#E5ECF6\",\"radialaxis\":{\"gridcolor\":\"white\",\"linecolor\":\"white\",\"ticks\":\"\"}},\"scene\":{\"xaxis\":{\"backgroundcolor\":\"#E5ECF6\",\"gridcolor\":\"white\",\"gridwidth\":2,\"linecolor\":\"white\",\"showbackground\":true,\"ticks\":\"\",\"zerolinecolor\":\"white\"},\"yaxis\":{\"backgroundcolor\":\"#E5ECF6\",\"gridcolor\":\"white\",\"gridwidth\":2,\"linecolor\":\"white\",\"showbackground\":true,\"ticks\":\"\",\"zerolinecolor\":\"white\"},\"zaxis\":{\"backgroundcolor\":\"#E5ECF6\",\"gridcolor\":\"white\",\"gridwidth\":2,\"linecolor\":\"white\",\"showbackground\":true,\"ticks\":\"\",\"zerolinecolor\":\"white\"}},\"shapedefaults\":{\"line\":{\"color\":\"#2a3f5f\"}},\"ternary\":{\"aaxis\":{\"gridcolor\":\"white\",\"linecolor\":\"white\",\"ticks\":\"\"},\"baxis\":{\"gridcolor\":\"white\",\"linecolor\":\"white\",\"ticks\":\"\"},\"bgcolor\":\"#E5ECF6\",\"caxis\":{\"gridcolor\":\"white\",\"linecolor\":\"white\",\"ticks\":\"\"}},\"title\":{\"x\":0.05},\"xaxis\":{\"automargin\":true,\"gridcolor\":\"white\",\"linecolor\":\"white\",\"ticks\":\"\",\"title\":{\"standoff\":15},\"zerolinecolor\":\"white\",\"zerolinewidth\":2},\"yaxis\":{\"automargin\":true,\"gridcolor\":\"white\",\"linecolor\":\"white\",\"ticks\":\"\",\"title\":{\"standoff\":15},\"zerolinecolor\":\"white\",\"zerolinewidth\":2}}}},                        {\"responsive\": true}                    ).then(function(){\n",
       "                            \n",
       "var gd = document.getElementById('8e11a231-cb0a-4931-8d6b-3b12250c0697');\n",
       "var x = new MutationObserver(function (mutations, observer) {{\n",
       "        var display = window.getComputedStyle(gd).display;\n",
       "        if (!display || display === 'none') {{\n",
       "            console.log([gd, 'removed!']);\n",
       "            Plotly.purge(gd);\n",
       "            observer.disconnect();\n",
       "        }}\n",
       "}});\n",
       "\n",
       "// Listen for the removal of the full notebook cells\n",
       "var notebookContainer = gd.closest('#notebook-container');\n",
       "if (notebookContainer) {{\n",
       "    x.observe(notebookContainer, {childList: true});\n",
       "}}\n",
       "\n",
       "// Listen for the clearing of the current output cell\n",
       "var outputEl = gd.closest('.output');\n",
       "if (outputEl) {{\n",
       "    x.observe(outputEl, {childList: true});\n",
       "}}\n",
       "\n",
       "                        })                };                });            </script>        </div>"
      ]
     },
     "metadata": {},
     "output_type": "display_data"
    }
   ],
   "source": [
    "def update_figure(selected_year):\n",
    "    filtered_df = df[df['disc_year'] == selected_year]\n",
    "    traces = []\n",
    "    for method in filtered_df['discoverymethod'].unique():\n",
    "        df_by_method = filtered_df[filtered_df['discoverymethod'] == method]\n",
    "        traces.append(go.Scatter(\n",
    "                    x=df_by_method['pl_name'],\n",
    "                    y=df_by_method['sy_dist'],\n",
    "                    marker=dict(\n",
    "                        size=df_by_method['pl_bmasse'].apply(lambda x: 0 if math.isnan(x) else x),\n",
    "                        sizeref = 100),\n",
    "                    showlegend = True,\n",
    "                    mode = 'markers', \n",
    "                    name = method))\n",
    "\n",
    "    fig = go.Figure({\n",
    "        'data': traces, \n",
    "        'layout':go.Layout(\n",
    "            title='Discovery methods per year',\n",
    "            xaxis = {'title': 'Planets', 'showgrid': False},\n",
    "            yaxis = {'title': 'Distance (pc)', 'showgrid': False})})\n",
    "\n",
    "\n",
    "    fig.show()\n",
    "\n",
    "\n",
    "update_figure(2020)"
   ]
  },
  {
   "cell_type": "code",
   "execution_count": null,
   "metadata": {},
   "outputs": [],
   "source": []
  }
 ],
 "metadata": {
  "interpreter": {
   "hash": "2e7f50c9f5be32ae673bf0296c39957650afe537294c92b30b8d4ebac0efa24e"
  },
  "kernelspec": {
   "display_name": "Python 3.9.5 64-bit ('marco_venv')",
   "language": "python",
   "name": "python3"
  },
  "language_info": {
   "codemirror_mode": {
    "name": "ipython",
    "version": 3
   },
   "file_extension": ".py",
   "mimetype": "text/x-python",
   "name": "python",
   "nbconvert_exporter": "python",
   "pygments_lexer": "ipython3",
   "version": "3.9.5"
  },
  "orig_nbformat": 4
 },
 "nbformat": 4,
 "nbformat_minor": 2
}
